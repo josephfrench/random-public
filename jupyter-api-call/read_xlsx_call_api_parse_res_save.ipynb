{
 "cells": [
  {
   "cell_type": "code",
   "execution_count": 16,
   "id": "ca38a527",
   "metadata": {},
   "outputs": [],
   "source": [
    "import pandas as pd\n",
    "import requests\n",
    "from urllib.parse import urlencode"
   ]
  },
  {
   "cell_type": "code",
   "execution_count": 41,
   "id": "dffb0855",
   "metadata": {},
   "outputs": [],
   "source": [
    "# Pull in excel data - edit names as needed\n",
    "filename = 'myexcel.xlsx'\n",
    "sheetname = 'Sheet1'\n",
    "excel_data_df = pd.read_excel(filename, sheet_name=sheetname, header=None)"
   ]
  },
  {
   "cell_type": "code",
   "execution_count": 29,
   "id": "be3b5e4e",
   "metadata": {},
   "outputs": [],
   "source": [
    "#function to make API call - edit base url and queryparams and func args and headers as neeeded \n",
    "def callApi(source):\n",
    "    baseurl = 'https://ibpsomniflow.us.aegon.com/customerwebapp/GASearchController'\n",
    "    queryparams = urlencode({\n",
    "        'action': 'JESearch',\n",
    "        'jtStartIndex': 0,\n",
    "        'jtPageSize': 10,\n",
    "        'jtSorting': 'wi_name ASC'\n",
    "    }) \n",
    "    url = baseurl + '?' + queryparams  \n",
    "    data = {\n",
    "        'source': source\n",
    "    }\n",
    "    headers = {headers = {'Content-Type': 'application/x-www-form-urlencoded'}}\n",
    "\n",
    "    r = requests.post(url, data=data headers = headers)\n",
    "    return r.json()"
   ]
  },
  {
   "cell_type": "code",
   "execution_count": 34,
   "id": "3478dc62",
   "metadata": {},
   "outputs": [],
   "source": [
    "#function to parse api response - remap as needed\n",
    "def parseRes(res):\n",
    "    return res.get('uuid')"
   ]
  },
  {
   "cell_type": "code",
   "execution_count": 35,
   "id": "8752fa7d",
   "metadata": {},
   "outputs": [],
   "source": [
    "#function to call api and parse response\n",
    "def getData(name):\n",
    "    return parseRes(callApi(name))"
   ]
  },
  {
   "cell_type": "code",
   "execution_count": 39,
   "id": "eb6d9009",
   "metadata": {},
   "outputs": [],
   "source": [
    "#loop thru dataframe rows and fetch data from api\n",
    "newfilename='myFile.txt'\n",
    "with open(newfilename, \"w\") as file:\n",
    "    for entry in excel_data_df[0].tolist():\n",
    "        file.write(str(getData(entry)) + \"\\n\")"
   ]
  }
 ],
 "metadata": {
  "kernelspec": {
   "display_name": "Python 3",
   "language": "python",
   "name": "python3"
  },
  "language_info": {
   "codemirror_mode": {
    "name": "ipython",
    "version": 3
   },
   "file_extension": ".py",
   "mimetype": "text/x-python",
   "name": "python",
   "nbconvert_exporter": "python",
   "pygments_lexer": "ipython3",
   "version": "3.8.8"
  },
  "varInspector": {
   "cols": {
    "lenName": 16,
    "lenType": 16,
    "lenVar": 40
   },
   "kernels_config": {
    "python": {
     "delete_cmd_postfix": "",
     "delete_cmd_prefix": "del ",
     "library": "var_list.py",
     "varRefreshCmd": "print(var_dic_list())"
    },
    "r": {
     "delete_cmd_postfix": ") ",
     "delete_cmd_prefix": "rm(",
     "library": "var_list.r",
     "varRefreshCmd": "cat(var_dic_list()) "
    }
   },
   "types_to_exclude": [
    "module",
    "function",
    "builtin_function_or_method",
    "instance",
    "_Feature"
   ],
   "window_display": false
  }
 },
 "nbformat": 4,
 "nbformat_minor": 5
}
